{
 "cells": [
  {
   "cell_type": "code",
   "execution_count": 3,
   "id": "fdacccfd",
   "metadata": {},
   "outputs": [
    {
     "name": "stdout",
     "output_type": "stream",
     "text": [
      "Filtered data saved to top_students.csv\n"
     ]
    },
    {
     "name": "stderr",
     "output_type": "stream",
     "text": [
      "C:\\Users\\Asus\\AppData\\Local\\Temp\\ipykernel_27792\\512426587.py:13: SettingWithCopyWarning: \n",
      "A value is trying to be set on a copy of a slice from a DataFrame.\n",
      "Try using .loc[row_indexer,col_indexer] = value instead\n",
      "\n",
      "See the caveats in the documentation: https://pandas.pydata.org/pandas-docs/stable/user_guide/indexing.html#returning-a-view-versus-a-copy\n",
      "  filtered_data['Status'] = 'Passed'\n"
     ]
    }
   ],
   "source": [
    "# Exercise 1 Processing Student Data with Python\n",
    "\n",
    "import pandas as pd\n",
    "\n",
    "# Read the CSV file\n",
    "file_path = 'students.csv'\n",
    "data = pd.read_csv(file_path)\n",
    "\n",
    "# Filter students with grades lesser than or equal to 'B'\n",
    "filtered_data = data[data['Grade'] <= 'B']\n",
    "\n",
    "# Add a new 'Status' column with 'Passed' for filtered students\n",
    "filtered_data['Status'] = 'Passed'\n",
    "\n",
    "# Write the filtered data to a new CSV file\n",
    "output_file = 'top_students.csv'\n",
    "filtered_data.to_csv(output_file, index=False)\n",
    "\n",
    "print(f\"Filtered data saved to {output_file}\")"
   ]
  },
  {
   "cell_type": "code",
   "execution_count": 4,
   "id": "5e3f166b",
   "metadata": {},
   "outputs": [],
   "source": [
    "# Practice Exercise: Extracting State Population\n",
    "\n",
    "state_populations = {'Johor': 3794000, 'Kedah': 2194100, 'Kelantan': 1928800, 'Malcca': 937500, 'Negeri Sembilan': 1129100, 'Pahang':1684600, 'Penang': 1774400, 'Perak': 2508900, 'Perlis': 255400, 'Sabah': 3833000, 'Sarawak': 282200, 'Selangor': 6555400, 'Terengganu': 1275100, 'Kuala Lumpur': 1746600, 'Labuan': 100100, 'Putrajaya': 116100 }"
   ]
  },
  {
   "cell_type": "code",
   "execution_count": 5,
   "id": "506f5c25",
   "metadata": {},
   "outputs": [
    {
     "name": "stdout",
     "output_type": "stream",
     "text": [
      "Enter the name of a state: Kuching\n",
      "Kuching is not found in the data.\n",
      "Enter the name of a state: Johor\n",
      "Population of Johor: 3794000\n"
     ]
    }
   ],
   "source": [
    "def get_state_population():\n",
    "    while True:\n",
    "        state_name = input(\"Enter the name of a state: \")\n",
    "        population = state_populations.get(state_name)\n",
    "        if population is not None:\n",
    "            print(f\"Population of {state_name}: {population}\")\n",
    "            break\n",
    "        else:\n",
    "            print(f\"{state_name} is not found in the data.\")\n",
    "            \n",
    "get_state_population()            "
   ]
  },
  {
   "cell_type": "code",
   "execution_count": null,
   "id": "859ac0ad",
   "metadata": {},
   "outputs": [],
   "source": []
  }
 ],
 "metadata": {
  "kernelspec": {
   "display_name": "Python 3 (ipykernel)",
   "language": "python",
   "name": "python3"
  },
  "language_info": {
   "codemirror_mode": {
    "name": "ipython",
    "version": 3
   },
   "file_extension": ".py",
   "mimetype": "text/x-python",
   "name": "python",
   "nbconvert_exporter": "python",
   "pygments_lexer": "ipython3",
   "version": "3.11.5"
  }
 },
 "nbformat": 4,
 "nbformat_minor": 5
}
