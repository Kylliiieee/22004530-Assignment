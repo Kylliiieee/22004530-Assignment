{
 "cells": [
  {
   "cell_type": "code",
   "execution_count": 85,
   "id": "36339103",
   "metadata": {},
   "outputs": [
    {
     "name": "stdout",
     "output_type": "stream",
     "text": [
      "Requirement already satisfied: thermo in c:\\users\\asus\\documents\\ce\\phyton\\lib\\site-packages (0.2.27)\n",
      "Requirement already satisfied: chemicals>=1.1.5 in c:\\users\\asus\\documents\\ce\\phyton\\lib\\site-packages (from thermo) (1.1.5)\n",
      "Requirement already satisfied: fluids>=1.0.25 in c:\\users\\asus\\documents\\ce\\phyton\\lib\\site-packages (from thermo) (1.0.25)\n",
      "Requirement already satisfied: pandas in c:\\users\\asus\\documents\\ce\\phyton\\lib\\site-packages (from thermo) (2.0.3)\n",
      "Requirement already satisfied: scipy in c:\\users\\asus\\documents\\ce\\phyton\\lib\\site-packages (from thermo) (1.11.1)\n",
      "Requirement already satisfied: numpy in c:\\users\\asus\\documents\\ce\\phyton\\lib\\site-packages (from chemicals>=1.1.5->thermo) (1.24.3)\n",
      "Requirement already satisfied: python-dateutil>=2.8.2 in c:\\users\\asus\\documents\\ce\\phyton\\lib\\site-packages (from pandas->thermo) (2.8.2)\n",
      "Requirement already satisfied: pytz>=2020.1 in c:\\users\\asus\\documents\\ce\\phyton\\lib\\site-packages (from pandas->thermo) (2023.3.post1)\n",
      "Requirement already satisfied: tzdata>=2022.1 in c:\\users\\asus\\documents\\ce\\phyton\\lib\\site-packages (from pandas->thermo) (2023.3)\n",
      "Requirement already satisfied: six>=1.5 in c:\\users\\asus\\documents\\ce\\phyton\\lib\\site-packages (from python-dateutil>=2.8.2->pandas->thermo) (1.16.0)\n"
     ]
    }
   ],
   "source": [
    "!pip install thermo"
   ]
  },
  {
   "cell_type": "code",
   "execution_count": 86,
   "id": "74a13d48",
   "metadata": {},
   "outputs": [
    {
     "data": {
      "text/plain": [
       "PR(Tc=507.6, Pc=3025000.0, omega=0.2975, T=400.0, P=1000000.0)"
      ]
     },
     "execution_count": 86,
     "metadata": {},
     "output_type": "execute_result"
    }
   ],
   "source": [
    "from thermo import *\n",
    "eos = PR(Tc=507.6, Pc=3025000.0, omega=0.2975, T=400., P=1E6)\n",
    "eos"
   ]
  },
  {
   "cell_type": "code",
   "execution_count": 87,
   "id": "6001f586",
   "metadata": {},
   "outputs": [
    {
     "data": {
      "text/plain": [
       "(0.00015607318478566296, 0.002141876816741797, 0.0009192954749822109)"
      ]
     },
     "execution_count": 87,
     "metadata": {},
     "output_type": "execute_result"
    }
   ],
   "source": [
    "eos.raw_volumes"
   ]
  },
  {
   "cell_type": "code",
   "execution_count": 88,
   "id": "20d34aad",
   "metadata": {},
   "outputs": [
    {
     "data": {
      "text/plain": [
       "'l/g'"
      ]
     },
     "execution_count": 88,
     "metadata": {},
     "output_type": "execute_result"
    }
   ],
   "source": [
    "eos.phase"
   ]
  },
  {
   "cell_type": "code",
   "execution_count": 89,
   "id": "17cc6f81",
   "metadata": {},
   "outputs": [
    {
     "data": {
      "text/plain": [
       "-26111.87757167542"
      ]
     },
     "execution_count": 89,
     "metadata": {},
     "output_type": "execute_result"
    }
   ],
   "source": [
    "eos.H_dep_l"
   ]
  },
  {
   "cell_type": "code",
   "execution_count": 90,
   "id": "32a98657",
   "metadata": {},
   "outputs": [
    {
     "data": {
      "text/plain": [
       "-6.4394518931042874"
      ]
     },
     "execution_count": 90,
     "metadata": {},
     "output_type": "execute_result"
    }
   ],
   "source": [
    "eos.S_dep_g"
   ]
  },
  {
   "cell_type": "code",
   "execution_count": 91,
   "id": "8f10bf69",
   "metadata": {},
   "outputs": [
    {
     "data": {
      "text/plain": [
       "288501.6337664864"
      ]
     },
     "execution_count": 91,
     "metadata": {},
     "output_type": "execute_result"
    }
   ],
   "source": [
    "eos.dP_dT_l"
   ]
  },
  {
   "cell_type": "code",
   "execution_count": 92,
   "id": "4bdf477d",
   "metadata": {},
   "outputs": [
    {
     "data": {
      "text/plain": [
       "421597.0078576584"
      ]
     },
     "execution_count": 92,
     "metadata": {},
     "output_type": "execute_result"
    }
   ],
   "source": [
    "eos.fugacity_l"
   ]
  },
  {
   "cell_type": "code",
   "execution_count": 93,
   "id": "973e6e2c",
   "metadata": {},
   "outputs": [
    {
     "data": {
      "text/plain": [
       "0.010123223911174938"
      ]
     },
     "execution_count": 93,
     "metadata": {},
     "output_type": "execute_result"
    }
   ],
   "source": [
    "eos.beta_g"
   ]
  },
  {
   "cell_type": "code",
   "execution_count": 94,
   "id": "39d703ef",
   "metadata": {},
   "outputs": [
    {
     "data": {
      "text/plain": [
       "31086.219936357076"
      ]
     },
     "execution_count": 94,
     "metadata": {},
     "output_type": "execute_result"
    }
   ],
   "source": [
    "eos.Hvap(300)"
   ]
  },
  {
   "cell_type": "code",
   "execution_count": 95,
   "id": "f59bb51a",
   "metadata": {},
   "outputs": [
    {
     "data": {
      "text/plain": [
       "PR(Tc=507.6, Pc=3025000.0, omega=0.2975, T=300.0, P=100000.0)"
      ]
     },
     "execution_count": 95,
     "metadata": {},
     "output_type": "execute_result"
    }
   ],
   "source": [
    "eos.to(T=300.0, P=1e5)"
   ]
  },
  {
   "cell_type": "code",
   "execution_count": 96,
   "id": "800e8691",
   "metadata": {},
   "outputs": [
    {
     "data": {
      "text/plain": [
       "PR(Tc=507.6, Pc=3025000.0, omega=0.2975, T=300, V=100.0)"
      ]
     },
     "execution_count": 96,
     "metadata": {},
     "output_type": "execute_result"
    }
   ],
   "source": [
    "eos.to(V=1e2, T=300)"
   ]
  },
  {
   "cell_type": "code",
   "execution_count": 97,
   "id": "da761ed9",
   "metadata": {},
   "outputs": [
    {
     "data": {
      "text/plain": [
       "{'T': 400.0, 'P': 1000000.0}"
      ]
     },
     "execution_count": 97,
     "metadata": {},
     "output_type": "execute_result"
    }
   ],
   "source": [
    "eos.state_specs"
   ]
  },
  {
   "cell_type": "code",
   "execution_count": 98,
   "id": "5ff85dce",
   "metadata": {},
   "outputs": [
    {
     "data": {
      "text/plain": [
       "1000000.0"
      ]
     },
     "execution_count": 98,
     "metadata": {},
     "output_type": "execute_result"
    }
   ],
   "source": [
    "from thermo.eos import R\n",
    "R*eos.T/(eos.V_l-eos.b) - eos.a_alpha/(eos.V_l**2 + eos.V_l*eos.delta + eos.epsilon)\n",
    "1000000.000000\n",
    "R*eos.T/(eos.V_g-eos.b) - eos.a_alpha/(eos.V_g**2 + eos.V_g*eos.delta + eos.epsilon)\n",
    "1000000.000000"
   ]
  },
  {
   "cell_type": "code",
   "execution_count": null,
   "id": "99f1437a",
   "metadata": {},
   "outputs": [],
   "source": []
  },
  {
   "cell_type": "code",
   "execution_count": null,
   "id": "1f9657b3",
   "metadata": {},
   "outputs": [],
   "source": []
  }
 ],
 "metadata": {
  "kernelspec": {
   "display_name": "Python 3 (ipykernel)",
   "language": "python",
   "name": "python3"
  },
  "language_info": {
   "codemirror_mode": {
    "name": "ipython",
    "version": 3
   },
   "file_extension": ".py",
   "mimetype": "text/x-python",
   "name": "python",
   "nbconvert_exporter": "python",
   "pygments_lexer": "ipython3",
   "version": "3.11.5"
  }
 },
 "nbformat": 4,
 "nbformat_minor": 5
}
