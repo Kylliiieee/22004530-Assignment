{
 "cells": [
  {
   "cell_type": "code",
   "execution_count": 1,
   "id": "1c2a7661",
   "metadata": {},
   "outputs": [
    {
     "name": "stdout",
     "output_type": "stream",
     "text": [
      "Checkout Processed by: Sarah Connor\n",
      "Books Checked Out:\n",
      "- 1984\n",
      "- Brave New World\n",
      "Checkout Duration: 3 weeks\n",
      "Additional Checkout Details:\n",
      "- Late Fee: $0.25 per day\n",
      "- Renewals Allowed: 2\n",
      "Special Conditions for Checkout:\n",
      "- Handle with care\n"
     ]
    }
   ],
   "source": [
    "# Library Book Management\n",
    "\n",
    "def checkout_books(librarian_name, *book_titles, duration='2 weeks', **kwargs):\n",
    "    # Displaying the librarian's name\n",
    "    print(f\"Checkout Processed by: {librarian_name}\")\n",
    "\n",
    "    # Displaying the list of books checked out\n",
    "    print(\"Books Checked Out:\")\n",
    "    for title in book_titles:\n",
    "        print(f\"- {title}\")\n",
    "\n",
    "    # Displaying the checkout duration\n",
    "    print(f\"Checkout Duration: {duration}\")\n",
    "\n",
    "    # Displaying additional checkout details using **kwargs\n",
    "    print(\"Additional Checkout Details:\")\n",
    "    if 'late_fee' in kwargs:\n",
    "        print(f\"- Late Fee: ${kwargs['late_fee']} per day\")\n",
    "    if 'renewals_allowed' in kwargs:\n",
    "        print(f\"- Renewals Allowed: {kwargs['renewals_allowed']}\")\n",
    "    \n",
    "    # Displaying special conditions for checkout\n",
    "    if 'special_conditions' in kwargs:\n",
    "        print(\"Special Conditions for Checkout:\")\n",
    "        for condition in kwargs['special_conditions']:\n",
    "            print(f\"- {condition}\")\n",
    "\n",
    "# Example usage\n",
    "checkout_books(\n",
    "    'Sarah Connor',\n",
    "    '1984', 'Brave New World',\n",
    "    duration='3 weeks',\n",
    "    late_fee=0.25,\n",
    "    renewals_allowed=2,\n",
    "    special_conditions=['Handle with care']\n",
    ")\n",
    "\n"
   ]
  },
  {
   "cell_type": "code",
   "execution_count": null,
   "id": "b4785d43",
   "metadata": {},
   "outputs": [],
   "source": []
  }
 ],
 "metadata": {
  "kernelspec": {
   "display_name": "Python 3 (ipykernel)",
   "language": "python",
   "name": "python3"
  },
  "language_info": {
   "codemirror_mode": {
    "name": "ipython",
    "version": 3
   },
   "file_extension": ".py",
   "mimetype": "text/x-python",
   "name": "python",
   "nbconvert_exporter": "python",
   "pygments_lexer": "ipython3",
   "version": "3.11.5"
  }
 },
 "nbformat": 4,
 "nbformat_minor": 5
}
