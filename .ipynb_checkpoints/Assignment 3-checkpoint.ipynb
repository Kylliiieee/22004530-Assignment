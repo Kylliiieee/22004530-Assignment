{
 "cells": [
  {
   "cell_type": "code",
   "execution_count": null,
   "id": "42f19bf6",
   "metadata": {},
   "outputs": [],
   "source": [
    "#Exercise\n",
    "\n",
    "def simple_calculator():\n",
    "\n",
    "    try:\n",
    "        num1 = float(input(\"Enter first number: \"))\n",
    "    except ValueError:\n",
    "        print(\"Please enter a number.\")\n",
    "        \n",
    "    try:    \n",
    "        num2 = float(input(\"Enter second number: \"))\n",
    "    except ValueError:\n",
    "        print(\"Please enter a number\")\n",
    "        \n",
    "    try:    \n",
    "        operation = input(\"Enter mathematical operation (addition, subtraction, multiplication, division)): \")\n",
    "        if operation == \"addition\":\n",
    "            result = num1 + num2\n",
    "            \n",
    "        elif(operation == \"subtraction\"):\n",
    "            result = num1 - num2\n",
    "            \n",
    "        elif(operation == \"multiplication\"):\n",
    "            result = num1 * num2\n",
    "            \n",
    "        elif(operation == \"division\"):\n",
    "            try: \n",
    "                result = num1 / num2\n",
    "            except ZeroDivisionError:\n",
    "                print(\"Division by zero is not allowed.\")\n",
    "                \n",
    "        return result        \n",
    "        \n",
    "    except:\n",
    "        print(\"Please enter a valid mathematical operation.\")"
   ]
  },
  {
   "cell_type": "code",
   "execution_count": null,
   "id": "46f5bdf3",
   "metadata": {},
   "outputs": [],
   "source": [
    "print(simple_calculator())"
   ]
  }
 ],
 "metadata": {
  "kernelspec": {
   "display_name": "Python 3 (ipykernel)",
   "language": "python",
   "name": "python3"
  },
  "language_info": {
   "codemirror_mode": {
    "name": "ipython",
    "version": 3
   },
   "file_extension": ".py",
   "mimetype": "text/x-python",
   "name": "python",
   "nbconvert_exporter": "python",
   "pygments_lexer": "ipython3",
   "version": "3.11.5"
  }
 },
 "nbformat": 4,
 "nbformat_minor": 5
}
